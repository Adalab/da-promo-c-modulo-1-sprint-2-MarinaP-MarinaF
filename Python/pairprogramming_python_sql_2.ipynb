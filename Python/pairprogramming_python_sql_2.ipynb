{
 "cells": [
  {
   "cell_type": "code",
   "execution_count": null,
   "metadata": {},
   "outputs": [],
   "source": [
    "pairprogramming_python_sql_2"
   ]
  },
  {
   "cell_type": "code",
   "execution_count": 1,
   "metadata": {},
   "outputs": [
    {
     "name": "stdout",
     "output_type": "stream",
     "text": [
      "CMySQLCursor: CREATE DATABASE mi_primerita_BBDD_Python\n"
     ]
    }
   ],
   "source": [
    "import mysql.connector\n",
    "\n",
    "cnx = mysql.connector.connect(user='root', password='AlumnaAdalab',\n",
    "                              host='127.0.0.1')\n",
    "\n",
    "\n",
    "mycursor = cnx.cursor()\n",
    "try:\n",
    "    mycursor.execute(\"CREATE DATABASE mi_primerita_BBDD_Python\")\n",
    "    print(mycursor)\n",
    "except mysql.connector.Error as err:\n",
    "    print(err)\n",
    "    print(\"Error Code:\", err.errno)\n",
    "    print(\"SQLSTATE\", err.sqlstate)\n",
    "    print(\"Message\", err.msg)"
   ]
  },
  {
   "cell_type": "code",
   "execution_count": 2,
   "metadata": {},
   "outputs": [],
   "source": [
    "def crear_tabla_sql(contraseña, query): \n",
    "\n",
    "    cnx = mysql.connector.connect(user='root', password = contraseña ,\n",
    "                                host='127.0.0.1', database ='mi_primerita_BBDD_Python')\n",
    "\n",
    "\n",
    "    mycursor = cnx.cursor()\n",
    "\n",
    "    try:\n",
    "        mycursor.execute(query)\n",
    "        print(mycursor)\n",
    "    except mysql.connector.Error as err:\n",
    "        print(err)\n",
    "        print(\"Error Code:\", err.errno)\n",
    "        print(\"SQLSTATE\", err.sqlstate)\n",
    "        print(\"Message\", err.msg)\n",
    "\n",
    "    mycursor.close()\n",
    "    cnx.close()"
   ]
  },
  {
   "cell_type": "code",
   "execution_count": 3,
   "metadata": {},
   "outputs": [
    {
     "name": "stdout",
     "output_type": "stream",
     "text": [
      "CMySQLCursor: CREATE TABLE Tabla_Zapatillas \n",
      "         ..\n"
     ]
    }
   ],
   "source": [
    "query_tabla_zapatillas = (\"\"\"CREATE TABLE Tabla_Zapatillas \n",
    "                            (id_zapatilla INT NOT NULL AUTO_INCREMENT PRIMARY KEY, \n",
    "                            modelo VARCHAR(45) NOT NULL,\n",
    "                            color VARCHAR(45) NOT NULL, \n",
    "                            talla INT NOT NULL)\"\"\")\n",
    "\n",
    "crear_tabla_sql('AlumnaAdalab', query_tabla_zapatillas)"
   ]
  },
  {
   "cell_type": "code",
   "execution_count": 4,
   "metadata": {},
   "outputs": [
    {
     "name": "stdout",
     "output_type": "stream",
     "text": [
      "CMySQLCursor: CREATE TABLE tabla_clientes (\n",
      "          ..\n"
     ]
    }
   ],
   "source": [
    "query_tabla_clientes = (\"\"\"CREATE TABLE tabla_clientes (\n",
    "                            id_cliente INT NOT NULL AUTO_INCREMENT PRIMARY KEY,\n",
    "                            nombre VARCHAR(45) NOT NULL ,\n",
    "                            numero_telefono INT(9) NOT NULL , \n",
    "                            email  VARCHAR(45) NOT NULL , \n",
    "                            direccion VARCHAR(45) NOT NULL , \n",
    "                            ciudad VARCHAR(45) DEFAULT NULL , \n",
    "                            provincia VARCHAR(45) NOT NULL , \n",
    "                            pais VARCHAR(45) NOT NULL , \n",
    "                            codigo_postal INT(45) NOT NULL)\"\"\")\n",
    "\n",
    "crear_tabla_sql('AlumnaAdalab', query_tabla_clientes)\n"
   ]
  },
  {
   "cell_type": "code",
   "execution_count": 5,
   "metadata": {},
   "outputs": [
    {
     "name": "stdout",
     "output_type": "stream",
     "text": [
      "CMySQLCursor: CREATE TABLE tabla_empleados (\n",
      "         ..\n"
     ]
    }
   ],
   "source": [
    "query_tabla_empleados = (\"\"\"CREATE TABLE tabla_empleados (\n",
    "                            id_empleado INT NOT NULL AUTO_INCREMENT PRIMARY KEY,\n",
    "                            nombre VARCHAR(45) NOT NULL , \n",
    "                            tienda VARCHAR(45) NOT NULL , \n",
    "                            salario INT DEFAULT NULL , \n",
    "                            fecha_incorporacion DATE NOT NULL\n",
    "                            )\"\"\")\n",
    "\n",
    "crear_tabla_sql('AlumnaAdalab', query_tabla_empleados)"
   ]
  },
  {
   "cell_type": "code",
   "execution_count": 6,
   "metadata": {},
   "outputs": [
    {
     "name": "stdout",
     "output_type": "stream",
     "text": [
      "1824 (HY000): Failed to open the referenced table 'tabla_zapatillas'\n",
      "Error Code: 1824\n",
      "SQLSTATE HY000\n",
      "Message Failed to open the referenced table 'tabla_zapatillas'\n"
     ]
    }
   ],
   "source": [
    "query_tabla_facturas = (\"\"\"CREATE TABLE IF NOT EXISTS `tabla_facturas` (\n",
    "                            id_factura INT NOT NULL AUTO_INCREMENT PRIMARY KEY,\n",
    "                            numero_factura INT(45) NOT NULL ,\n",
    "                            fecha DATE NOT NULL ,\n",
    "                            id_zapatilla INT NOT NULL ,\n",
    "                            id_empleado INT NOT NULL ,\n",
    "                            id_cliente INT NOT NULL , \n",
    "                            CONSTRAINT fk_tabla_facturas_tabla_zapatillas\n",
    "                            FOREIGN KEY (id_zapatilla)\n",
    "                            REFERENCES tabla_zapatillas (id_zapatilla),\n",
    "                            CONSTRAINT fk_tabla_facturas_tabla_empleado\n",
    "                            FOREIGN KEY (id_empleado)\n",
    "                            REFERENCES tabla_empleados (id_empleado),\n",
    "                            CONSTRAINT fk_tabla_facturas_tabla_cliente\n",
    "                            FOREIGN KEY (id_cliente)\n",
    "                            REFERENCES tabla_clientes (id_cliente)\n",
    "                            )\"\"\")\n",
    "\n",
    "crear_tabla_sql('AlumnaAdalab', query_tabla_facturas)"
   ]
  }
 ],
 "metadata": {
  "kernelspec": {
   "display_name": "Python 3.9.7 ('base')",
   "language": "python",
   "name": "python3"
  },
  "language_info": {
   "codemirror_mode": {
    "name": "ipython",
    "version": 3
   },
   "file_extension": ".py",
   "mimetype": "text/x-python",
   "name": "python",
   "nbconvert_exporter": "python",
   "pygments_lexer": "ipython3",
   "version": "3.9.7"
  },
  "orig_nbformat": 4,
  "vscode": {
   "interpreter": {
    "hash": "0620710c65b0f5ccc651a2aa8870ae0eb4c70492424a8d7866846658189426a3"
   }
  }
 },
 "nbformat": 4,
 "nbformat_minor": 2
}
