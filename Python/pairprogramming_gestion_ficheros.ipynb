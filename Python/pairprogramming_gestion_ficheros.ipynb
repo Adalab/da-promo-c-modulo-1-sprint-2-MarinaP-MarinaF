{
 "cells": [
  {
   "cell_type": "code",
   "execution_count": null,
   "metadata": {},
   "outputs": [],
   "source": [
    "# #1 Crear una función que:\n",
    "# - muestre en qué carpeta estamos trabajando\n",
    "# - cree una carpeta llamada aprendiendo-ficheros\n",
    "# - cree otra carpeta que se llame datos dentro de la carpeta aprendiendo-ficheros. en esa carpeta guardaremos saludo.txt\n",
    "# - cambiar el directorio de trabajo a la carpeta \"datos\". comprobar que estamos trabajando en la carpeta \"datos\".\n",
    "# - cambiar el nombre de la carpeta creada en el punto 2 a primera-toma-contacto"
   ]
  },
  {
   "cell_type": "code",
   "execution_count": 7,
   "metadata": {},
   "outputs": [
    {
     "data": {
      "text/plain": [
       "'/home/adalaber/Escritorio/Adalab/da-promo-c-modulo-1-sprint-2-MarinaP-MarinaF/Python'"
      ]
     },
     "execution_count": 7,
     "metadata": {},
     "output_type": "execute_result"
    }
   ],
   "source": [
    "# Código que nos muestre en qué carpeta estamos trabajando.\n",
    "\n",
    "import os \n",
    "\n",
    "from os import getcwd\n",
    "\n",
    "class carpetas ('aprendiendo-ficheros', 'datos', 'primera-toma-contacto')\n",
    "    def mi_ruta(self)\n",
    "        mi_ruta = os.getcwd()\n",
    "        mi_ruta\n",
    "\n",
    "        os.mkdir('aprendiendo-ficheros')\n",
    "\n",
    "ubi_carpeta = getcwd()\n",
    "ubi_archivo = ubi_carpeta + '/' + 'aprendiendo-ficheros'\n",
    "print(ubi_archivo)\n",
    "\n",
    "os.mkdir('datos')\n",
    "\n",
    "ubi_carpeta2 = os.getcwd() + '/' + 'aprendiendo-ficheros' + '/' + 'datos'\n",
    "print(ubi_carpeta2)"
   ]
  },
  {
   "cell_type": "code",
   "execution_count": 9,
   "metadata": {},
   "outputs": [],
   "source": [
    "\n",
    "#intento de hacer la función\n",
    "\n",
    "import os \n",
    "from os import getcwd\n",
    "\n",
    "def donde_estoy():\n",
    "    mi_ruta = os.getcwd()\n",
    "    return mi_ruta\n",
    "def crear_carpeta():\n",
    "    os.mkdir('aprendiendo-ficheros')\n",
    "    return mi_ruta\n",
    "def crear_carpeta_datos():\n",
    "    os.mkdir('datos')\n",
    "\n",
    "# Esto está mal\n"
   ]
  },
  {
   "cell_type": "code",
   "execution_count": null,
   "metadata": {},
   "outputs": [],
   "source": [
    "\n",
    "class carpetas ():\n",
    "    def carpeta1():\n",
    "        mi_ruta = os.getcwd()\n",
    "        mi_ruta\n",
    "        os.mkdir('aprendiendo-ficheros')\n",
    "    def carpeta2():\n",
    "        ubi_carpeta = getcwd()\n",
    "        ubi_archivo = ubi_carpeta + '/' + 'aprendiendo-ficheros'\n",
    "        print(ubi_archivo)\n",
    "        os.mkdir('datos')\n",
    "    def carpeta3():\n",
    "        ubi_carpeta2 = os.getcwd() + '/' + 'aprendiendo-ficheros' + '/' + 'datos'\n",
    "        print(ubi_carpeta2)"
   ]
  },
  {
   "cell_type": "code",
   "execution_count": 6,
   "metadata": {},
   "outputs": [
    {
     "ename": "FileExistsError",
     "evalue": "[Errno 17] File exists: 'aprendiendo-ficheros'",
     "output_type": "error",
     "traceback": [
      "\u001b[0;31m---------------------------------------------------------------------------\u001b[0m",
      "\u001b[0;31mFileExistsError\u001b[0m                           Traceback (most recent call last)",
      "\u001b[0;32m/tmp/ipykernel_8388/382670765.py\u001b[0m in \u001b[0;36m<module>\u001b[0;34m\u001b[0m\n\u001b[1;32m      2\u001b[0m \u001b[0;31m# programa que nos diga que hay un error si la carpeta ya existe.\u001b[0m\u001b[0;34m\u001b[0m\u001b[0;34m\u001b[0m\u001b[0m\n\u001b[1;32m      3\u001b[0m \u001b[0;34m\u001b[0m\u001b[0m\n\u001b[0;32m----> 4\u001b[0;31m \u001b[0mos\u001b[0m\u001b[0;34m.\u001b[0m\u001b[0mmkdir\u001b[0m\u001b[0;34m(\u001b[0m\u001b[0;34m'aprendiendo-ficheros'\u001b[0m\u001b[0;34m)\u001b[0m\u001b[0;34m\u001b[0m\u001b[0;34m\u001b[0m\u001b[0m\n\u001b[0m\u001b[1;32m      5\u001b[0m \u001b[0;34m\u001b[0m\u001b[0m\n\u001b[1;32m      6\u001b[0m \u001b[0;32mif\u001b[0m \u001b[0;34m'aprendiendo-ficheros'\u001b[0m \u001b[0;34m==\u001b[0m \u001b[0;32mTrue\u001b[0m\u001b[0;34m:\u001b[0m\u001b[0;34m\u001b[0m\u001b[0;34m\u001b[0m\u001b[0m\n",
      "\u001b[0;31mFileExistsError\u001b[0m: [Errno 17] File exists: 'aprendiendo-ficheros'"
     ]
    }
   ],
   "source": [
    "#2 Crea una carpeta que se llame aprendiendo-ficheros. Si la carpeta ya existe, no la podremos crear. Crea un\n",
    "# programa que nos diga que hay un error si la carpeta ya existe.\n",
    "\n",
    "os.mkdir('aprendiendo-ficheros')\n",
    "\n",
    "if 'aprendiendo-ficheros' == True:\n",
    "    print('Error, la carpeta ya existe')"
   ]
  },
  {
   "cell_type": "code",
   "execution_count": 8,
   "metadata": {},
   "outputs": [
    {
     "name": "stdout",
     "output_type": "stream",
     "text": [
      "/home/adalaber/Escritorio/Adalab/da-promo-c-modulo-1-sprint-2-MarinaP-MarinaF/Python/aprendiendo-ficheros\n"
     ]
    }
   ],
   "source": [
    "# Crea otra carpeta que se llame datos dentro de aprendiendo-ficheros\n",
    "\n",
    "ubi_carpeta = getcwd()\n",
    "ubi_archivo = ubi_carpeta + '/' + 'aprendiendo-ficheros'\n",
    "print(ubi_archivo)"
   ]
  },
  {
   "cell_type": "code",
   "execution_count": 9,
   "metadata": {},
   "outputs": [],
   "source": [
    "os.mkdir('datos')\n"
   ]
  },
  {
   "cell_type": "code",
   "execution_count": 14,
   "metadata": {},
   "outputs": [
    {
     "name": "stdout",
     "output_type": "stream",
     "text": [
      "/home/adalaber/Escritorio/aprendiendo-ficheros/datos\n"
     ]
    }
   ],
   "source": [
    "ubi_carpeta2 = os.getcwd() + '/' + 'aprendiendo-ficheros' + '/' + 'datos'\n",
    "print(ubi_carpeta2)"
   ]
  },
  {
   "cell_type": "code",
   "execution_count": 35,
   "metadata": {},
   "outputs": [],
   "source": [
    "os.mkdir('aprendiendo-ficheros/datos')\n",
    "# Esta es la buena"
   ]
  },
  {
   "cell_type": "code",
   "execution_count": 4,
   "metadata": {},
   "outputs": [
    {
     "ename": "NameError",
     "evalue": "name 'getcwd' is not defined",
     "output_type": "error",
     "traceback": [
      "\u001b[0;31m---------------------------------------------------------------------------\u001b[0m",
      "\u001b[0;31mNameError\u001b[0m                                 Traceback (most recent call last)",
      "\u001b[0;32m/tmp/ipykernel_10107/188793373.py\u001b[0m in \u001b[0;36m<module>\u001b[0;34m\u001b[0m\n\u001b[1;32m      2\u001b[0m \u001b[0;34m\u001b[0m\u001b[0m\n\u001b[1;32m      3\u001b[0m \u001b[0mos\u001b[0m\u001b[0;34m.\u001b[0m\u001b[0mgetcwd\u001b[0m\u001b[0;34m(\u001b[0m\u001b[0;34m)\u001b[0m\u001b[0;34m\u001b[0m\u001b[0;34m\u001b[0m\u001b[0m\n\u001b[0;32m----> 4\u001b[0;31m \u001b[0mubi_saludo1\u001b[0m \u001b[0;34m=\u001b[0m \u001b[0mgetcwd\u001b[0m\u001b[0;34m(\u001b[0m\u001b[0;34m)\u001b[0m \u001b[0;34m+\u001b[0m \u001b[0;34m'/'\u001b[0m \u001b[0;34m+\u001b[0m \u001b[0;34m'saludo.txt'\u001b[0m\u001b[0;34m\u001b[0m\u001b[0;34m\u001b[0m\u001b[0m\n\u001b[0m",
      "\u001b[0;31mNameError\u001b[0m: name 'getcwd' is not defined"
     ]
    }
   ],
   "source": [
    "# En la carpeta datos guardaremos el saludo Saludo.txt\n",
    "\n",
    "os.getcwd()"
   ]
  },
  {
   "cell_type": "code",
   "execution_count": 17,
   "metadata": {},
   "outputs": [
    {
     "data": {
      "text/plain": [
       "'/home/adalaber/Escritorio/saludo.txt'"
      ]
     },
     "execution_count": 17,
     "metadata": {},
     "output_type": "execute_result"
    }
   ],
   "source": [
    "\n",
    "ubi_saludo1 = os.getcwd() + '/' + 'saludo.txt'\n",
    "ubi_saludo1"
   ]
  },
  {
   "cell_type": "code",
   "execution_count": 9,
   "metadata": {},
   "outputs": [],
   "source": [
    "f = open(ubi_saludo1)"
   ]
  },
  {
   "cell_type": "code",
   "execution_count": 15,
   "metadata": {},
   "outputs": [],
   "source": [
    "ubi_saludo2 = ubi_carpeta2 + '/' + 'saludo.txt'"
   ]
  },
  {
   "cell_type": "code",
   "execution_count": 19,
   "metadata": {},
   "outputs": [
    {
     "data": {
      "text/plain": [
       "'/home/adalaber/Escritorio'"
      ]
     },
     "execution_count": 19,
     "metadata": {},
     "output_type": "execute_result"
    }
   ],
   "source": [
    "os.getcwd()"
   ]
  },
  {
   "cell_type": "code",
   "execution_count": 18,
   "metadata": {},
   "outputs": [
    {
     "ename": "FileNotFoundError",
     "evalue": "[Errno 2] No such file or directory: '/home/adalaber/Escritorio/aprendiendo-ficheros/datos'",
     "output_type": "error",
     "traceback": [
      "\u001b[0;31m---------------------------------------------------------------------------\u001b[0m",
      "\u001b[0;31mFileNotFoundError\u001b[0m                         Traceback (most recent call last)",
      "\u001b[0;32m/tmp/ipykernel_10107/1833486046.py\u001b[0m in \u001b[0;36m<module>\u001b[0;34m\u001b[0m\n\u001b[1;32m      2\u001b[0m \u001b[0;31m# carpeta datos.\u001b[0m\u001b[0;34m\u001b[0m\u001b[0;34m\u001b[0m\u001b[0m\n\u001b[1;32m      3\u001b[0m \u001b[0;34m\u001b[0m\u001b[0m\n\u001b[0;32m----> 4\u001b[0;31m \u001b[0mos\u001b[0m\u001b[0;34m.\u001b[0m\u001b[0mchdir\u001b[0m\u001b[0;34m(\u001b[0m\u001b[0mubi_carpeta2\u001b[0m\u001b[0;34m)\u001b[0m\u001b[0;34m\u001b[0m\u001b[0;34m\u001b[0m\u001b[0m\n\u001b[0m",
      "\u001b[0;31mFileNotFoundError\u001b[0m: [Errno 2] No such file or directory: '/home/adalaber/Escritorio/aprendiendo-ficheros/datos'"
     ]
    }
   ],
   "source": [
    "# Cambia el directorio de trabajo a la carpeta datos. Antes de seguir, comprobad que estáis trabajando en la\n",
    "# carpeta datos.\n",
    "\n",
    "os.chdir(ubi_carpeta2)"
   ]
  },
  {
   "cell_type": "code",
   "execution_count": 20,
   "metadata": {},
   "outputs": [
    {
     "data": {
      "text/plain": [
       "['Adalab', 'saludo.txt', 'Untitled-1.ipynb']"
      ]
     },
     "execution_count": 20,
     "metadata": {},
     "output_type": "execute_result"
    }
   ],
   "source": [
    "os.listdir()"
   ]
  },
  {
   "cell_type": "code",
   "execution_count": 21,
   "metadata": {},
   "outputs": [
    {
     "ename": "TypeError",
     "evalue": "posix.getcwd() takes no arguments (1 given)",
     "output_type": "error",
     "traceback": [
      "\u001b[0;31m---------------------------------------------------------------------------\u001b[0m",
      "\u001b[0;31mTypeError\u001b[0m                                 Traceback (most recent call last)",
      "\u001b[0;32m/tmp/ipykernel_10107/4229117304.py\u001b[0m in \u001b[0;36m<module>\u001b[0;34m\u001b[0m\n\u001b[0;32m----> 1\u001b[0;31m \u001b[0mos\u001b[0m\u001b[0;34m.\u001b[0m\u001b[0mgetcwd\u001b[0m\u001b[0;34m(\u001b[0m\u001b[0;34m'Adalab'\u001b[0m\u001b[0;34m)\u001b[0m\u001b[0;34m\u001b[0m\u001b[0;34m\u001b[0m\u001b[0m\n\u001b[0m",
      "\u001b[0;31mTypeError\u001b[0m: posix.getcwd() takes no arguments (1 given)"
     ]
    }
   ],
   "source": [
    "os.getcwd('Adalab')"
   ]
  },
  {
   "cell_type": "code",
   "execution_count": null,
   "metadata": {},
   "outputs": [],
   "source": [
    "#2 Crear una función que se llame saludo.txt y muestre su contenido completo.\n",
    "# Que muestre la línea 4 del fichero."
   ]
  },
  {
   "cell_type": "code",
   "execution_count": null,
   "metadata": {},
   "outputs": [],
   "source": [
    "#3 Crear una función que reciba el nombre del archivo xml y que devuelva lo siguiente:\n",
    "# - qué tag y atributos tiene el archivo xml\n",
    "# - la descripción de cada una de las películas que tenemos en ese archivo\n",
    "# - los años en que fueron estrenadas las películas"
   ]
  }
 ],
 "metadata": {
  "kernelspec": {
   "display_name": "Python 3.9.7 ('base')",
   "language": "python",
   "name": "python3"
  },
  "language_info": {
   "codemirror_mode": {
    "name": "ipython",
    "version": 3
   },
   "file_extension": ".py",
   "mimetype": "text/x-python",
   "name": "python",
   "nbconvert_exporter": "python",
   "pygments_lexer": "ipython3",
   "version": "3.9.7"
  },
  "orig_nbformat": 4,
  "vscode": {
   "interpreter": {
    "hash": "0620710c65b0f5ccc651a2aa8870ae0eb4c70492424a8d7866846658189426a3"
   }
  }
 },
 "nbformat": 4,
 "nbformat_minor": 2
}
