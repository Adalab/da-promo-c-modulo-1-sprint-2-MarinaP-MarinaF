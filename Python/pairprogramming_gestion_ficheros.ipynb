{
 "cells": [
  {
   "cell_type": "code",
   "execution_count": 4,
   "metadata": {},
   "outputs": [],
   "source": [
    "# Importamos la librería os junto con la función que nos interesa para averiguar la ubicación del\n",
    "# Jupyter en el que estamos trabajando:\n",
    "\n",
    "import os\n",
    "from os import getcwd"
   ]
  },
  {
   "cell_type": "code",
   "execution_count": 8,
   "metadata": {},
   "outputs": [
    {
     "name": "stdout",
     "output_type": "stream",
     "text": [
      "Nos encontramos en /home/adalaber/Escritorio/Adalab/da-promo-c-modulo-1-sprint-2-MarinaP-MarinaF/Python\n"
     ]
    }
   ],
   "source": [
    "print('Nos encontramos en', getcwd())\n",
    "\n",
    "# Hacemos el getcwd en una casilla anterior porque de otra manera nos da problemas."
   ]
  },
  {
   "cell_type": "code",
   "execution_count": 6,
   "metadata": {},
   "outputs": [
    {
     "name": "stdout",
     "output_type": "stream",
     "text": [
      "Estamos en /home/adalaber/Escritorio/Adalab/da-promo-c-modulo-1-sprint-2-MarinaP-MarinaF/Python\n",
      "Creamos la carpeta aprendiendo-ficheros\n",
      "Vamos a carpeta aprendiendo-ficheros\n",
      "Creamos la carpeta datos en aprendiendo-ficheros\n",
      "Vamos a carpeta datos\n",
      "/home/adalaber/Escritorio/Adalab/da-promo-c-modulo-1-sprint-2-MarinaP-MarinaF/Python/aprendiendo-ficheros/datos\n",
      "Cambiamos el nombre de aprendiendo-ficheros a primera-toma-contacto\n"
     ]
    }
   ],
   "source": [
    "#1 Crear una función que:\n",
    "\n",
    "def carpetas(carpeta1, carpeta2, carpeta3):\n",
    "    \n",
    "    # nos muestre en qué carpeta estamos trabajando:\n",
    "\n",
    "    ruta_carpeta1 = os.getcwd()\n",
    "    print('Estamos en', ruta_carpeta1)\n",
    "\n",
    "    # cree una carpeta (se llamará aprendiendo-ficheros, que se especificará al usar la función):\n",
    "\n",
    "    try:\n",
    "        os.mkdir(carpeta1)\n",
    "        print(f\"Creamos la carpeta {carpeta1}\")\n",
    "    except:\n",
    "        print(f\"{carpeta1} ya existe\")\n",
    "    \n",
    "    # cree una carpeta detro de la carpeta previamente creada:\n",
    "\n",
    "    os.chdir(carpeta1)\n",
    "    print(f\"Vamos a carpeta {carpeta1}\")\n",
    "\n",
    "    os.mkdir(carpeta2)\n",
    "    print(f\"Creamos la carpeta {carpeta2} en {carpeta1}\")\n",
    "    \n",
    "    os.chdir(carpeta2)\n",
    "    print(f\"Vamos a carpeta {carpeta2}\")\n",
    "    \n",
    "    # cambie el directorio de trabajo a la carpeta \"datos\":\n",
    "\n",
    "    ruta_datos = os.getcwd()\n",
    "    print(ruta_datos)\n",
    "\n",
    "    os.chdir(\"../../\")\n",
    "\n",
    "    # cambie el nombre de la primera carpeta creada\n",
    "\n",
    "    try:\n",
    "        os.rename(carpeta1, carpeta3)\n",
    "        print(f\"Cambiamos el nombre de {carpeta1} a {carpeta3}\")\n",
    "    except:\n",
    "        print(\"Ya existe una carpeta con ese nombre\")\n",
    "        \n",
    "    return\n",
    "\n",
    "# Comprobamos que la función funciona:\n",
    "    # Llamamos 'aprendiendo-ficheros' a la carpeta1, 'datos' a la carpeta2 y 'primera-toma-contacto' a la carpeta3.\n",
    "\n",
    "carpetas('aprendiendo-ficheros', 'datos', 'primera-toma-contacto')"
   ]
  },
  {
   "cell_type": "code",
   "execution_count": 15,
   "metadata": {},
   "outputs": [],
   "source": [
    "#2 \n",
    "\n",
    "def saludo():\n",
    "\n",
    "    # Como el archivo está en la misma carpeta, lo ubicamos con listdir().\n",
    "\n",
    "    if 'saludo.txt' in os.listdir():\n",
    "        with open('saludo.txt', 'r') as f:\n",
    "            saludo = f.read()\n",
    "            print(saludo)\n",
    "\n",
    "    f.close()\n",
    "    "
   ]
  },
  {
   "cell_type": "code",
   "execution_count": 16,
   "metadata": {},
   "outputs": [
    {
     "name": "stdout",
     "output_type": "stream",
     "text": [
      "Hola Adalabers!!!\n",
      "\n",
      "Estamos en la sesión de pair-programming para familiarizarnos con la gestión de carpetas y ficheros desde Python 🙂🌊\n",
      "\n",
      "Esto esta siendo suuuper divertidooooo\n"
     ]
    }
   ],
   "source": [
    "saludo()"
   ]
  },
  {
   "cell_type": "code",
   "execution_count": null,
   "metadata": {},
   "outputs": [],
   "source": [
    "# Sólo nos ha dado tiempo a llegar hasta aquí."
   ]
  }
 ],
 "metadata": {
  "kernelspec": {
   "display_name": "Python 3.9.7 ('base')",
   "language": "python",
   "name": "python3"
  },
  "language_info": {
   "codemirror_mode": {
    "name": "ipython",
    "version": 3
   },
   "file_extension": ".py",
   "mimetype": "text/x-python",
   "name": "python",
   "nbconvert_exporter": "python",
   "pygments_lexer": "ipython3",
   "version": "3.9.7"
  },
  "orig_nbformat": 4,
  "vscode": {
   "interpreter": {
    "hash": "0620710c65b0f5ccc651a2aa8870ae0eb4c70492424a8d7866846658189426a3"
   }
  }
 },
 "nbformat": 4,
 "nbformat_minor": 2
}
