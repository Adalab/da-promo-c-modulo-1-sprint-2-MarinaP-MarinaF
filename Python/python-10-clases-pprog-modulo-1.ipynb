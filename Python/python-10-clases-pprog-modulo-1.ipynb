{
 "cells": [
  {
   "cell_type": "markdown",
   "metadata": {},
   "source": [
    "En este ejercicio de pair programming crearemos una clase. Imaginemos que nuestro jefe nos pide que creemos una clase para tener más ordenada la información sobre cada uno de los empleados de la empresa. Para ello:\n",
    "1- Definid una clase que se llame Empleados\n",
    "2- Definid los siguientes atributos que caracterizan a nuestros empleados:\n",
    " - nombre\n",
    " - apellido\n",
    " - edad\n",
    " - posición que ocupa en la empresa\n",
    " - año en que entró en la empresa\n",
    " - número de días de vacaciones que tiene\n",
    " - Las herramientas que usa cada uno de ellos, por ejemplo, Outlook, excel y word. Deberá ser una lista.\n",
    "3- Cread una instancia para la clase creada\n",
    "4- Definid los siguientes métodos:\n",
    " - descripción\n",
    " - calculo_vacaciones\n",
    " - cambiando_posicion\n",
    " - Tips para definir los métodos:\n",
    "\n",
    "\n",
    "Método descripcion:\n",
    "El return deberá ser un string en el que aparezca el nombre, apellidos, los años que lleva en la empresa y los días de vacaciones que le quedan. Este método deberá devolver algo como esto:\n",
    "\"El/ella, es Lorena, Data Analyst, quien lleva con nostros en la empresa desde 2000. Además este año le quedan 15 dias de vacaciones\"\n",
    "Método calculo_vacaciones:\n",
    "Deberá contener input que nos pregunte cuántos días te quieres ir de vacaciones.\n",
    "Luego deberemos restar el número de días que se fue de vacaciones a el número total de vacaciones que tiene ese empleado.\n",
    "Una condición que chequee si:\n",
    "Si el numero de vacaciones que tiene el empleado es igual a 0, devolved un mensaje que diga que se le acabaron las vacaciones\n",
    "Si el número de días que se quiere ir de vacaciones es mayor que el número de vacaciones que le quedan, devolved un mensaje que diga que no se puede ir tantos de vacaciones\n",
    "En caso de que no se cumplan ninguna de estas condiciones, que nos devuelva el número de vacaciones que le quedan al empleado.\n",
    "Método cambiando_posicion:\n",
    "Iteraremos por la lista de herramientas que usa el empleado:\n",
    "Si el empleado usa \"Python\" devolveremos un mensaje de bien hecho!\n",
    "Si el empleado usa \"Excel\" le recomendaremos amigablemente que deje excel y empiece a usar Excel"
   ]
  },
  {
   "cell_type": "code",
   "execution_count": null,
   "metadata": {},
   "outputs": [],
   "source": []
  },
  {
   "cell_type": "code",
   "execution_count": 1,
   "metadata": {},
   "outputs": [],
   "source": [
    "# 1\n",
    "class Empleados: \n",
    "    def __init__(self, nombre, apellido, edad, posición, año_início, num_vacaciones, herramientas):\n",
    "        self.nombre= nombre\n",
    "        self.apellido= apellido\n",
    "        self.edad= edad\n",
    "        self.posición= posición\n",
    "        self.año_início= año_início\n",
    "        self.num_vacaciones= num_vacaciones\n",
    "        self.herramientas= herramientas\n",
    "        "
   ]
  },
  {
   "cell_type": "code",
   "execution_count": 21,
   "metadata": {},
   "outputs": [
    {
     "data": {
      "text/plain": [
       "<__main__.Empleados at 0x7f05e4be9d90>"
      ]
     },
     "execution_count": 21,
     "metadata": {},
     "output_type": "execute_result"
    }
   ],
   "source": [
    "#3\n",
    "Frederico= Empleados('Frederico', 'Fernandez', 35, 'bedel', 1985, 22, ['fregona', 'cubo','escoba'])\n",
    "Frederico\n",
    " "
   ]
  },
  {
   "cell_type": "code",
   "execution_count": 17,
   "metadata": {},
   "outputs": [
    {
     "data": {
      "text/plain": [
       "['fregona', 'cubo', 'escoba']"
      ]
     },
     "execution_count": 17,
     "metadata": {},
     "output_type": "execute_result"
    }
   ],
   "source": [
    "Frederico.nombre\n",
    "Frederico.herramientas"
   ]
  },
  {
   "cell_type": "code",
   "execution_count": 18,
   "metadata": {},
   "outputs": [
    {
     "data": {
      "text/plain": [
       "list"
      ]
     },
     "execution_count": 18,
     "metadata": {},
     "output_type": "execute_result"
    }
   ],
   "source": [
    "type(Frederico.herramientas)"
   ]
  },
  {
   "cell_type": "code",
   "execution_count": 26,
   "metadata": {},
   "outputs": [],
   "source": [
    "#4 descripción\n",
    "# - calculo_vacaciones\n",
    " #- cambiando_posicion\n",
    " # Tips para definir los métodos:\n",
    " \n",
    "class Empleados: \n",
    "    def __init__(self, nombre, apellido, edad, posición, año_início, num_vacaciones, herramientas):\n",
    "        self.nombre= nombre\n",
    "        self.apellido= apellido\n",
    "        self.edad= edad\n",
    "        self.posición= posición\n",
    "        self.año_início= año_início\n",
    "        self.num_vacaciones= num_vacaciones\n",
    "        self.herramientas= herramientas\n",
    "    def descripción(self):\n",
    "        print('se llama', self.nombre, self.apellido, 'tiene', self.edad, 'su posición es', self.posición, 'empezó en la empresa en año', self.año_início, '. Tiene', self.num_vacaciones, 'dias de vacaciones.')\n",
    "        return f'se llama {self.nombre} {self.apellido}, tiene {self.edad}, su posición es {self.posición}, empezó en la empresa en año {self.año_início}. Tiene {self.num_vacaciones} dias de vacaciones.'\n",
    "    def calculo_vacaciones(self, num_vacaciones):\n",
    "        repuesta_vacaciones=(input('Cuantos dias quieres de vacaciones?'))\n",
    "        total_vacaciones= num_vacaciones - respuesta_vacaciones \n",
    "        if "
   ]
  },
  {
   "cell_type": "code",
   "execution_count": 27,
   "metadata": {},
   "outputs": [
    {
     "data": {
      "text/plain": [
       "<__main__.Empleados at 0x7f05e4bdf5e0>"
      ]
     },
     "execution_count": 27,
     "metadata": {},
     "output_type": "execute_result"
    }
   ],
   "source": [
    "Frederico= Empleados('Frederico', 'Fernandez', 35, 'bedel', 1985, 22, ['fregona', 'cubo','escoba'])\n",
    "Frederico\n",
    " "
   ]
  },
  {
   "cell_type": "code",
   "execution_count": null,
   "metadata": {},
   "outputs": [],
   "source": []
  },
  {
   "cell_type": "code",
   "execution_count": 28,
   "metadata": {},
   "outputs": [
    {
     "name": "stdout",
     "output_type": "stream",
     "text": [
      "se llama Frederico Fernandez tiene 35 su posición es bedel empezó en la empresa en año 1985 . Tiene 22 dias de vacaciones.\n"
     ]
    },
    {
     "data": {
      "text/plain": [
       "'se llama Frederico Fernandez, tiene 35, su posición es bedel, empezó en la empresa en año 1985. Tiene 22 dias de vacaciones.'"
      ]
     },
     "execution_count": 28,
     "metadata": {},
     "output_type": "execute_result"
    }
   ],
   "source": [
    "Frederico.descripción()"
   ]
  },
  {
   "cell_type": "code",
   "execution_count": null,
   "metadata": {},
   "outputs": [],
   "source": [
    "\n",
    "        "
   ]
  }
 ],
 "metadata": {
  "kernelspec": {
   "display_name": "Python 3.9.7 ('base')",
   "language": "python",
   "name": "python3"
  },
  "language_info": {
   "codemirror_mode": {
    "name": "ipython",
    "version": 3
   },
   "file_extension": ".py",
   "mimetype": "text/x-python",
   "name": "python",
   "nbconvert_exporter": "python",
   "pygments_lexer": "ipython3",
   "version": "3.9.7"
  },
  "orig_nbformat": 4,
  "vscode": {
   "interpreter": {
    "hash": "67102f693e510b408920f064fed8f652c879a90e6c1ff13ccd6f48ea2114128c"
   }
  }
 },
 "nbformat": 4,
 "nbformat_minor": 2
}
