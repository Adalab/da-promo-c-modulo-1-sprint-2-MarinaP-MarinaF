{
 "cells": [
  {
   "cell_type": "markdown",
   "metadata": {},
   "source": [
    "En este ejercicio de pair programming crearemos una clase. Imaginemos que nuestro jefe nos pide que creemos una clase para tener más ordenada la información sobre cada uno de los empleados de la empresa. Para ello:\n",
    "1- Definid una clase que se llame Empleados\n",
    "2- Definid los siguientes atributos que caracterizan a nuestros empleados:\n",
    " - nombre\n",
    " - apellido\n",
    " - edad\n",
    " - posición que ocupa en la empresa\n",
    " - año en que entró en la empresa\n",
    " - número de días de vacaciones que tiene\n",
    " - Las herramientas que usa cada uno de ellos, por ejemplo, Outlook, excel y word. Deberá ser una lista.\n",
    "3- Cread una instancia para la clase creada\n",
    "4- Definid los siguientes métodos:\n",
    " - descripción\n",
    " - calculo_vacaciones\n",
    " - cambiando_posicion\n",
    " - Tips para definir los métodos:\n",
    "\n",
    "\n",
    "Método descripcion:\n",
    "El return deberá ser un string en el que aparezca el nombre, apellidos, los años que lleva en la empresa y los días de vacaciones que le quedan. Este método deberá devolver algo como esto:\n",
    "\"El/ella, es Lorena, Data Analyst, quien lleva con nostros en la empresa desde 2000. Además este año le quedan 15 dias de vacaciones\"\n",
    "Método calculo_vacaciones:\n",
    "Deberá contener input que nos pregunte cuántos días te quieres ir de vacaciones.\n",
    "Luego deberemos restar el número de días que se fue de vacaciones a el número total de vacaciones que tiene ese empleado.\n",
    "Una condición que chequee si:\n",
    "Si el numero de vacaciones que tiene el empleado es igual a 0, devolved un mensaje que diga que se le acabaron las vacaciones\n",
    "Si el número de días que se quiere ir de vacaciones es mayor que el número de vacaciones que le quedan, devolved un mensaje que diga que no se puede ir tantos de vacaciones\n",
    "En caso de que no se cumplan ninguna de estas condiciones, que nos devuelva el número de vacaciones que le quedan al empleado.\n",
    "Método cambiando_posicion:\n",
    "Iteraremos por la lista de herramientas que usa el empleado:\n",
    "Si el empleado usa \"Python\" devolveremos un mensaje de bien hecho!\n",
    "Si el empleado usa \"Excel\" le recomendaremos amigablemente que deje excel y empiece a usar Excel"
   ]
  },
  {
   "cell_type": "code",
   "execution_count": 3,
   "metadata": {},
   "outputs": [
    {
     "name": "stdout",
     "output_type": "stream",
     "text": [
      "['fregona', 'cubo', 'escoba']\n",
      "<class 'list'>\n"
     ]
    }
   ],
   "source": [
    "#1 Creamos una clase llamada Empleados en la que se definan los atributos de nombre, apellido, edad, etc.:\n",
    "\n",
    "class Empleados: \n",
    "    def __init__(self, nombre, apellido, edad, posición, año_início, num_vacaciones, herramientas):\n",
    "        self.nombre= nombre\n",
    "        self.apellido= apellido\n",
    "        self.edad= edad\n",
    "        self.posición= posición\n",
    "        self.año_início= año_início\n",
    "        self.num_vacaciones= num_vacaciones\n",
    "        self.herramientas= herramientas\n",
    "\n",
    "# Ingresamos datos en los atributos:\n",
    "\n",
    "Frederico= Empleados('Frederico', 'Fernandez', 35, 'bedel', 1985, 22, ['fregona', 'cubo','escoba'])\n",
    "Frederico\n",
    "\n",
    "# Comprobamos que la clase funciona llamando a las definiciones:\n",
    "\n",
    "print(Frederico.herramientas)\n",
    "\n",
    "# Comprobamos el tipo de variable que es Frederico.herramientas:\n",
    "\n",
    "print(type(Frederico.herramientas))"
   ]
  },
  {
   "cell_type": "code",
   "execution_count": 7,
   "metadata": {},
   "outputs": [
    {
     "ename": "SyntaxError",
     "evalue": "invalid syntax (594685282.py, line 19)",
     "output_type": "error",
     "traceback": [
      "\u001b[0;36m  File \u001b[0;32m\"/tmp/ipykernel_9609/594685282.py\"\u001b[0;36m, line \u001b[0;32m19\u001b[0m\n\u001b[0;31m    if\u001b[0m\n\u001b[0m       ^\u001b[0m\n\u001b[0;31mSyntaxError\u001b[0m\u001b[0;31m:\u001b[0m invalid syntax\n"
     ]
    }
   ],
   "source": [
    "#2 Le añadimos los métodos de descripción y cálculo_vacaciones:\n",
    " \n",
    "class Empleados: \n",
    "    def __init__(self, nombre, apellido, edad, posición, año_início, num_vacaciones, herramientas):\n",
    "        self.nombre= nombre\n",
    "        self.apellido= apellido\n",
    "        self.edad= edad\n",
    "        self.posición= posición\n",
    "        self.año_início= año_início\n",
    "        self.num_vacaciones= num_vacaciones\n",
    "        self.herramientas= herramientas\n",
    "    def descripción(self):\n",
    "        print('se llama', self.nombre, self.apellido, 'tiene', self.edad, 'su posición es', self.posición, 'empezó en la empresa en año', self.año_início, '. Tiene', self.num_vacaciones, 'dias de vacaciones.')\n",
    "        return f'se llama {self.nombre} {self.apellido}, tiene {self.edad}, su posición es {self.posición}, empezó en la empresa en año {self.año_início}. Tiene {self.num_vacaciones} dias de vacaciones.'\n",
    "    def calculo_vacaciones(self, num_vacaciones):\n",
    "        repuesta_vacaciones=(input('Cuantos dias quieres de vacaciones?'))\n",
    "        total_vacaciones= num_vacaciones - respuesta_vacaciones \n",
    "        if \n",
    "\n",
    "# Falta terminar el calculo_vacaciones y añadir el método cambiando_posición."
   ]
  },
  {
   "cell_type": "code",
   "execution_count": 6,
   "metadata": {},
   "outputs": [
    {
     "ename": "AttributeError",
     "evalue": "'Empleados' object has no attribute 'descripción'",
     "output_type": "error",
     "traceback": [
      "\u001b[0;31m---------------------------------------------------------------------------\u001b[0m",
      "\u001b[0;31mAttributeError\u001b[0m                            Traceback (most recent call last)",
      "\u001b[0;32m/tmp/ipykernel_9609/3065345213.py\u001b[0m in \u001b[0;36m<module>\u001b[0;34m\u001b[0m\n\u001b[1;32m      1\u001b[0m \u001b[0;31m# Comprobamos que el método de descripción funciona:\u001b[0m\u001b[0;34m\u001b[0m\u001b[0;34m\u001b[0m\u001b[0m\n\u001b[1;32m      2\u001b[0m \u001b[0;34m\u001b[0m\u001b[0m\n\u001b[0;32m----> 3\u001b[0;31m \u001b[0mFrederico\u001b[0m\u001b[0;34m.\u001b[0m\u001b[0mdescripción\u001b[0m\u001b[0;34m(\u001b[0m\u001b[0;34m)\u001b[0m\u001b[0;34m\u001b[0m\u001b[0;34m\u001b[0m\u001b[0m\n\u001b[0m",
      "\u001b[0;31mAttributeError\u001b[0m: 'Empleados' object has no attribute 'descripción'"
     ]
    }
   ],
   "source": [
    "# Comprobamos que el método de descripción funciona:\n",
    "\n",
    "Frederico.descripción()"
   ]
  },
  {
   "cell_type": "code",
   "execution_count": null,
   "metadata": {},
   "outputs": [],
   "source": [
    "\n",
    "        "
   ]
  }
 ],
 "metadata": {
  "kernelspec": {
   "display_name": "Python 3.9.7 ('base')",
   "language": "python",
   "name": "python3"
  },
  "language_info": {
   "codemirror_mode": {
    "name": "ipython",
    "version": 3
   },
   "file_extension": ".py",
   "mimetype": "text/x-python",
   "name": "python",
   "nbconvert_exporter": "python",
   "pygments_lexer": "ipython3",
   "version": "3.9.7"
  },
  "orig_nbformat": 4,
  "vscode": {
   "interpreter": {
    "hash": "0620710c65b0f5ccc651a2aa8870ae0eb4c70492424a8d7866846658189426a3"
   }
  }
 },
 "nbformat": 4,
 "nbformat_minor": 2
}
