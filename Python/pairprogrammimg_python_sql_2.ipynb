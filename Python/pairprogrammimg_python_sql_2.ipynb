import mysql.connector

cnx = mysql.connector.connect(user='root', password='AlumnaAdalab',
                              host='127.0.0.1', database='BD_pruebas')
