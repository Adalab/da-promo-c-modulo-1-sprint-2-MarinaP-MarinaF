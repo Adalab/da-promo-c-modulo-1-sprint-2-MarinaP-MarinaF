{
 "cells": [
  {
   "cell_type": "code",
   "execution_count": 35,
   "metadata": {},
   "outputs": [
    {
     "name": "stdout",
     "output_type": "stream",
     "text": [
      "9\n",
      "39\n",
      "0\n",
      "2\n",
      "-2\n"
     ]
    }
   ],
   "source": [
    "#1 Crear una función que reciba dos números enteros en forma de string y dé como resultado la suma también en forma\n",
    "# de string. Si ambos parámetros son strings vacíos la función nos debe devolver 0. Si el primer parámetro es un\n",
    "# string vacío, la función nos devuelve el valor del segundo parámetro y viceversa.\n",
    "\n",
    "\n",
    "def funcion1(a, b):\n",
    "\n",
    "    if a == '' and b == '':\n",
    "        suma = str(0)\n",
    "        return suma\n",
    "\n",
    "    if a == '':\n",
    "        suma = b\n",
    "\n",
    "    if b == '':\n",
    "        suma = a\n",
    "        return suma\n",
    "\n",
    "    else:\n",
    "        a = int(a)\n",
    "        b = int(b)\n",
    "        suma = str(a + b)\n",
    "        suma\n",
    "\n",
    "    return suma\n",
    "\n",
    "# Printeamos para verlo todo junto, aunque salga sin comillas (sigue siendo str):\n",
    "\n",
    "print(funcion1('4', '5'))\n",
    "print(funcion1('34', '5'))\n",
    "print(funcion1('', ''))\n",
    "print(funcion1('2', ''))\n",
    "print(funcion1('-5', '3'))"
   ]
  },
  {
   "cell_type": "code",
   "execution_count": 2,
   "metadata": {},
   "outputs": [
    {
     "name": "stdout",
     "output_type": "stream",
     "text": [
      "13 23\n",
      "64 14\n",
      "15 53\n",
      "17 17\n",
      "88 80\n",
      "[23, 64, 53, 17, 88]\n"
     ]
    }
   ],
   "source": [
    "#2 Comparar cada par de elementos de dos listas y devolver una lista con el número mayor de la comparación.\n",
    "# Probad la función para las siguientes listas:\n",
    "\n",
    "arr1 = [13, 64, 15, 17, 88]\n",
    "arr2 = [23, 14, 53, 17, 80]\n",
    "resultado = [23, 64, 53, 17, 88]\n",
    "nueva_lista = []\n",
    "\n",
    "# Utiliza el método zip\n",
    "\n",
    "for i,z in zip(arr1, arr2):\n",
    "    print(i, z)\n",
    "    if i > z:\n",
    "        nueva_lista.append(i)\n",
    "    elif z > i:\n",
    "        nueva_lista.append(z)\n",
    "    else:\n",
    "        nueva_lista.append(i)\n",
    "\n",
    "print(nueva_lista)"
   ]
  },
  {
   "cell_type": "code",
   "execution_count": 6,
   "metadata": {},
   "outputs": [],
   "source": [
    "# Distintas pruebas que hicimos:\n",
    "\n",
    "#1 Un intento de zip:\n",
    "# junto = zip(arr1, arr2)\n",
    "# bienjunto = list(junto)\n",
    "# bienjunto'''\n",
    "\n",
    "#2 Métodos de listas:\n",
    "# if i in arr1 and i > j:\n",
    "#     nueva_lista.append(i)\n",
    "#elif j in arr2 and j > i:\n",
    "#    nueva_lista.append(j)'''\n",
    "\n",
    "#nueva_lista\n",
    "\n",
    "#3 Una definición que hiciese el cálculo:\n",
    "# def es_mayor():\n",
    "#   if arr1[0] > arr2[0]:\n",
    "#      nueva_lista.append()'''\n",
    "\n",
    "#4 Un bucle for que hiciese la comprobación valor a valor:\n",
    "# for i in arr1:\n",
    "#    if i[0] > arr2[0]:\n",
    "#        nueva_lista.append()\n",
    "#    elif i[1] > arr2[1]:\n",
    "#        nueva_lista.append()\n",
    "#    elif i[2] > arr2[2]:\n",
    "#        nueva_lista.append()\n",
    "#    elif i[3] > arr2[3]:\n",
    "#        nueva_lista.append()\n",
    "#    elif i[4] > arr2[4]:\n",
    "#        nueva_lista.append()\n",
    "#    elif i[5] > arr2[5]:\n",
    "#        nueva_lista.append()\n",
    "\n",
    "# print(nueva_lista)"
   ]
  },
  {
   "cell_type": "code",
   "execution_count": 1,
   "metadata": {},
   "outputs": [
    {
     "name": "stdout",
     "output_type": "stream",
     "text": [
      "\n",
      "Din -> (((\n",
      "Recede -> ()()()\n",
      "Success -> )())())\n",
      "(( @ -> ))((\n",
      "Ocvl@GamFLAFkixkS -> (((((((()(())(()(\n",
      "Calabaza -> ()()()()\n"
     ]
    }
   ],
   "source": [
    "#3 Convertir un string en un nuevo str en el que cada carácter del nuevo str es \"(\". Si ese carácter aparece sólo\n",
    "# una vez en el string original o \")\" si ese carácter aparece más de una vez en el string.\n",
    "\n",
    "# Hacemos un for que almacene en una variable las veces que un valor aparece en la palabra y los traduzca al\n",
    "# carácter deseado.\n",
    "\n",
    "z = ''\n",
    "a = []\n",
    "\n",
    "for i in a:\n",
    "    x = a.count(i)\n",
    "    if x == 1:\n",
    "        z += '('\n",
    "    else:\n",
    "        z += ')'\n",
    "\n",
    "print(z)\n",
    "\n",
    "# Definimos una función:\n",
    "\n",
    "def funcioncita (a):\n",
    "    z = ''\n",
    "    for i in a:\n",
    "        x = a.count(i)\n",
    "        if x == 1:\n",
    "            z += '('\n",
    "        else:\n",
    "            z += ')'\n",
    "    return z\n",
    "\n",
    "# Probad la función para los siguientes strings:\n",
    "\n",
    "din = funcioncita('din')\n",
    "print('Din ->', din)\n",
    "recede = funcioncita('recede')\n",
    "print('Recede ->', recede)\n",
    "success = funcioncita('success')\n",
    "print('Success ->', success)\n",
    "caracteres = funcioncita('(( @')\n",
    "print('(( @ ->', caracteres)\n",
    "ilegibles = funcioncita ('Ocvl@GamFLAFkixkS')\n",
    "print('Ocvl@GamFLAFkixkS ->', ilegibles)\n",
    "calabaza = funcioncita('calabaza')\n",
    "print('Calabaza ->', calabaza)"
   ]
  }
 ],
 "metadata": {
  "kernelspec": {
   "display_name": "Python 3.9.7 ('base')",
   "language": "python",
   "name": "python3"
  },
  "language_info": {
   "codemirror_mode": {
    "name": "ipython",
    "version": 3
   },
   "file_extension": ".py",
   "mimetype": "text/x-python",
   "name": "python",
   "nbconvert_exporter": "python",
   "pygments_lexer": "ipython3",
   "version": "3.9.7"
  },
  "orig_nbformat": 4,
  "vscode": {
   "interpreter": {
    "hash": "0620710c65b0f5ccc651a2aa8870ae0eb4c70492424a8d7866846658189426a3"
   }
  }
 },
 "nbformat": 4,
 "nbformat_minor": 2
}
