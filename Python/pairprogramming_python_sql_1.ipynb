{
 "cells": [
  {
   "cell_type": "code",
   "execution_count": 1,
   "metadata": {},
   "outputs": [
    {
     "name": "stdout",
     "output_type": "stream",
     "text": [
      "<mysql.connector.connection_cext.CMySQLConnection object at 0x7f291d2573d0>\n",
      "Llamo a la BBDD \"sys\" porque ese es el nombre de mi Northwind (no sé por qué)\n"
     ]
    }
   ],
   "source": [
    "#1 ¿Qué BBDD tenemos en nuestro servidor?\n",
    "\n",
    "import mysql.connector\n",
    "\n",
    "try:\n",
    "    cnx = mysql.connector.connect(user='root', password='AlumnaAdalab',\n",
    "                              host='127.0.0.1',\n",
    "                              database='sys')\n",
    "except mysql.connector.Error as err:\n",
    "    if err.errno == errorcode.ER_ACCESS_DENIED_ERROR:\n",
    "        print(\"Something is wrong with your user name or password\")\n",
    "    elif err.errno == errorcode.ER_BAD_DB_ERROR:\n",
    "        print(\"Database does not exist\")\n",
    "\n",
    "\n",
    "\n",
    "print(cnx)\n",
    "cnx.close()\n",
    "\n",
    "print('Llamo a la BBDD \"sys\" porque ese es el nombre de mi Northwind (no sé por qué)')"
   ]
  },
  {
   "cell_type": "code",
   "execution_count": 2,
   "metadata": {},
   "outputs": [
    {
     "name": "stdout",
     "output_type": "stream",
     "text": [
      "['categories']\n",
      "['clientes']\n",
      "['customer_customer_demo']\n",
      "['customer_demographics']\n",
      "['customers']\n",
      "['empleados']\n",
      "['employee_territories']\n",
      "['employees']\n",
      "['facturas']\n",
      "['host_summary']\n",
      "['host_summary_by_file_io']\n",
      "['host_summary_by_file_io_type']\n",
      "['host_summary_by_stages']\n",
      "['host_summary_by_statement_latency']\n",
      "['host_summary_by_statement_type']\n",
      "['innodb_buffer_stats_by_schema']\n",
      "['innodb_buffer_stats_by_table']\n",
      "['innodb_lock_waits']\n",
      "['io_by_thread_by_latency']\n",
      "['io_global_by_file_by_bytes']\n",
      "['io_global_by_file_by_latency']\n",
      "['io_global_by_wait_by_bytes']\n",
      "['io_global_by_wait_by_latency']\n",
      "['latest_file_io']\n",
      "['memory_by_host_by_current_bytes']\n",
      "['memory_by_thread_by_current_bytes']\n",
      "['memory_by_user_by_current_bytes']\n",
      "['memory_global_by_current_bytes']\n",
      "['memory_global_total']\n",
      "['metrics']\n",
      "['order_details']\n",
      "['orders']\n",
      "['processlist']\n",
      "['products']\n",
      "['ps_check_lost_instrumentation']\n",
      "['region']\n",
      "['schema_auto_increment_columns']\n",
      "['schema_index_statistics']\n",
      "['schema_object_overview']\n",
      "['schema_redundant_indexes']\n",
      "['schema_table_lock_waits']\n",
      "['schema_table_statistics']\n",
      "['schema_table_statistics_with_buffer']\n",
      "['schema_tables_with_full_table_scans']\n",
      "['schema_unused_indexes']\n",
      "['session']\n",
      "['session_ssl_status']\n",
      "['shippers']\n",
      "['statement_analysis']\n",
      "['statements_with_errors_or_warnings']\n",
      "['statements_with_full_table_scans']\n",
      "['statements_with_runtimes_in_95th_percentile']\n",
      "['statements_with_sorting']\n",
      "['statements_with_temp_tables']\n",
      "['suppliers']\n",
      "['sys_config']\n",
      "['territories']\n",
      "['user_summary']\n",
      "['user_summary_by_file_io']\n",
      "['user_summary_by_file_io_type']\n",
      "['user_summary_by_stages']\n",
      "['user_summary_by_statement_latency']\n",
      "['user_summary_by_statement_type']\n",
      "['version']\n",
      "['wait_classes_global_by_avg_latency']\n",
      "['wait_classes_global_by_latency']\n",
      "['waits_by_host_by_latency']\n",
      "['waits_by_user_by_latency']\n",
      "['waits_global_by_latency']\n",
      "['x$host_summary']\n",
      "['x$host_summary_by_file_io']\n",
      "['x$host_summary_by_file_io_type']\n",
      "['x$host_summary_by_stages']\n",
      "['x$host_summary_by_statement_latency']\n",
      "['x$host_summary_by_statement_type']\n",
      "['x$innodb_buffer_stats_by_schema']\n",
      "['x$innodb_buffer_stats_by_table']\n",
      "['x$innodb_lock_waits']\n",
      "['x$io_by_thread_by_latency']\n",
      "['x$io_global_by_file_by_bytes']\n",
      "['x$io_global_by_file_by_latency']\n",
      "['x$io_global_by_wait_by_bytes']\n",
      "['x$io_global_by_wait_by_latency']\n",
      "['x$latest_file_io']\n",
      "['x$memory_by_host_by_current_bytes']\n",
      "['x$memory_by_thread_by_current_bytes']\n",
      "['x$memory_by_user_by_current_bytes']\n",
      "['x$memory_global_by_current_bytes']\n",
      "['x$memory_global_total']\n",
      "['x$processlist']\n",
      "['x$ps_digest_95th_percentile_by_avg_us']\n",
      "['x$ps_digest_avg_latency_distribution']\n",
      "['x$ps_schema_table_statistics_io']\n",
      "['x$schema_flattened_keys']\n",
      "['x$schema_index_statistics']\n",
      "['x$schema_table_lock_waits']\n",
      "['x$schema_table_statistics']\n",
      "['x$schema_table_statistics_with_buffer']\n",
      "['x$schema_tables_with_full_table_scans']\n",
      "['x$session']\n",
      "['x$statement_analysis']\n",
      "['x$statements_with_errors_or_warnings']\n",
      "['x$statements_with_full_table_scans']\n",
      "['x$statements_with_runtimes_in_95th_percentile']\n",
      "['x$statements_with_sorting']\n",
      "['x$statements_with_temp_tables']\n",
      "['x$user_summary']\n",
      "['x$user_summary_by_file_io']\n",
      "['x$user_summary_by_file_io_type']\n",
      "['x$user_summary_by_stages']\n",
      "['x$user_summary_by_statement_latency']\n",
      "['x$user_summary_by_statement_type']\n",
      "['x$wait_classes_global_by_avg_latency']\n",
      "['x$wait_classes_global_by_latency']\n",
      "['x$waits_by_host_by_latency']\n",
      "['x$waits_by_user_by_latency']\n",
      "['x$waits_global_by_latency']\n",
      "['zapatilla']\n",
      "<class 'list'>\n"
     ]
    }
   ],
   "source": [
    "#2 Empecemos a explorar Northwind. ¿Qué tablas componen la BBDD? Guarda el resultado en una lista.\n",
    "\n",
    "mydb = mysql.connector.connect(\n",
    "              user='root', password='AlumnaAdalab',\n",
    "              host='127.0.0.1',\n",
    "              database='sys')\n",
    "\n",
    "mycursor = mydb.cursor()\n",
    "mycursor.execute(\"SHOW TABLES\")\n",
    "\n",
    "tablas = []\n",
    "\n",
    "# Creamos una lista usando list(), dado que originalmente nos salía una tupla.\n",
    "\n",
    "for i in mycursor:\n",
    "    tablas = list(i)\n",
    "    print(tablas)\n",
    "\n",
    "print(type(tablas))\n",
    "\n",
    "cnx.close()"
   ]
  },
  {
   "cell_type": "code",
   "execution_count": 3,
   "metadata": {},
   "outputs": [],
   "source": [
    "#3 ¿Qué columnas tiene cada una de la tablas? Haced un for loop para que nos saque el resultado.\n",
    "\n",
    "mydb = mysql.connector.connect(\n",
    "  host=\"localhost\",\n",
    "  user=\"root\",\n",
    "  password=\"AlumnaAdalab\",\n",
    "  database=\"INFORMATION_SCHEMA\")\n",
    "\n",
    "mycursor = mydb.cursor()\n",
    "mycursor.execute(\"SELECT * FROM COLUMNS WHERE TABLE_NAME = 'orders'\")\n"
   ]
  },
  {
   "cell_type": "code",
   "execution_count": 4,
   "metadata": {},
   "outputs": [
    {
     "name": "stdout",
     "output_type": "stream",
     "text": [
      "El pedido que se ha gastado más es: (2.0, 10252)\n"
     ]
    }
   ],
   "source": [
    "#4 Hagamos la siguientes querys:\n",
    "#  El pedido donde se ha gastado más (id_pedido + cantidad gastada)\n",
    "#  La misma query que en el ejercicio anterior, pero que devuelva todos los resutados\n",
    "#  El número de pedidos que se hayan hecho por día. Que devuelva los resutados en una dataframe.\n",
    "#  Extraer los pedidos hechos por \"Nancy Daviolo\". Hay que hacer una subquery.\n",
    "\n",
    "#  El pedido donde se ha gastado más (id_pedido + cantidad gastada):\n",
    "\n",
    "mydb = mysql.connector.connect(\n",
    "  host=\"localhost\",\n",
    "  user=\"root\",\n",
    "  password=\"AlumnaAdalab\",\n",
    "  database=\"sys\")\n",
    "\n",
    "\n",
    "mycursor = mydb.cursor()\n",
    "mycursor.execute(\"\"\"SELECT order_details.unit_price, order_details.order_id FROM orders\n",
    "RIGHT JOIN order_details ON orders.order_id = order_details.order_id ORDER BY unit_price\"\"\")\n",
    "myresult = mycursor.fetchone()\n",
    "print('El pedido que se ha gastado más es:', myresult)\n"
   ]
  },
  {
   "cell_type": "code",
   "execution_count": 5,
   "metadata": {},
   "outputs": [
    {
     "name": "stdout",
     "output_type": "stream",
     "text": [
      "Todos los resultados son: [(10865, 15810.0), (10981, 15810.0), (10353, 10540.0), (10417, 10540.0), (10889, 10540.0), (10424, 10329.2), (10897, 9903.2), (10372, 8432.0), (10540, 7905.0), (10816, 7905.0), (10817, 7905.0)] ... etcétera.\n"
     ]
    }
   ],
   "source": [
    "#  La misma query que en el ejercicio anterior, pero que devuelva todos los resutados:\n",
    "\n",
    "mydb = mysql.connector.connect(\n",
    "  host=\"localhost\",\n",
    "  user=\"root\",\n",
    "  password=\"AlumnaAdalab\",\n",
    "  database=\"sys\")\n",
    "\n",
    "\n",
    "mycursor = mydb.cursor()\n",
    "mycursor.execute(\"\"\"SELECT order_id, (quantity * unit_price)\n",
    "            FROM order_details\n",
    "            ORDER BY (quantity * unit_price) DESC\"\"\")\n",
    "myresult = mycursor.fetchall()\n",
    "\n",
    "print('Todos los resultados son:', myresult[:11], '... etcétera.')"
   ]
  },
  {
   "cell_type": "code",
   "execution_count": 7,
   "metadata": {},
   "outputs": [
    {
     "name": "stdout",
     "output_type": "stream",
     "text": [
      "         Fecha  NumeroPedidos\n",
      "0   1996-07-04              1\n",
      "1   1996-07-05              1\n",
      "2   1996-07-08              2\n",
      "3   1996-07-09              1\n",
      "4   1996-07-10              1\n",
      "..         ...            ...\n",
      "475 1998-04-30              4\n",
      "476 1998-05-01              3\n",
      "477 1998-05-04              3\n",
      "478 1998-05-05              4\n",
      "479 1998-05-06              4\n",
      "\n",
      "[480 rows x 2 columns]\n"
     ]
    }
   ],
   "source": [
    "#  El número de pedidos que se hayan hecho por día. Que devuelva los resutados en una dataframe.\n",
    "\n",
    "import pandas as pd\n",
    "\n",
    "cnx = mysql.connector.connect(\n",
    "  user='root', password='AlumnaAdalab',\n",
    "  host='127.0.0.1',\n",
    "  database='sys')\n",
    "\n",
    "mycursor = cnx.cursor()\n",
    "\n",
    "mycursor.execute(\"\"\"SELECT order_date, count(distinct order_id)\n",
    "            FROM orders\n",
    "            GROUP BY order_date\"\"\")\n",
    "\n",
    "myresult = mycursor.fetchall()\n",
    "\n",
    "dataframe1 = pd.DataFrame(myresult, columns = ['Fecha', 'NumeroPedidos'])\n",
    "print(dataframe1)\n"
   ]
  },
  {
   "cell_type": "code",
   "execution_count": 8,
   "metadata": {},
   "outputs": [
    {
     "name": "stdout",
     "output_type": "stream",
     "text": [
      "     NumeroPedido NumeroCliente\n",
      "0           10258         ERNSH\n",
      "1           10270         WARTH\n",
      "2           10275         MAGAA\n",
      "3           10285         QUICK\n",
      "4           10292         TRADH\n",
      "..            ...           ...\n",
      "118         11064         SAVEA\n",
      "119         11067         DRACD\n",
      "120         11069         TORTU\n",
      "121         11071         LILAS\n",
      "122         11077         RATTC\n",
      "\n",
      "[123 rows x 2 columns]\n"
     ]
    }
   ],
   "source": [
    "#  Extraer los pedidos hechos por \"Nancy Daviolo\". Hay que hacer una subquery.\n",
    "\n",
    "cnx = mysql.connector.connect(\n",
    "  user='root', password='AlumnaAdalab',\n",
    "  host='127.0.0.1',\n",
    "  database='sys')\n",
    "\n",
    "mycursor = cnx.cursor()\n",
    "\n",
    "mycursor.execute(\"\"\"SELECT order_id, customer_id\n",
    "            FROM orders\n",
    "            WHERE employee_id IN(\n",
    "\t\t                SELECT first_name = 'Nancy' AND last_name = 'Davolio'\n",
    "                    FROM employees);\"\"\")\n",
    "\n",
    "myresult = mycursor.fetchall()\n",
    "\n",
    "dataframe2 = pd.DataFrame(myresult, columns = ['NumeroPedido', 'NumeroCliente'])\n",
    "print (dataframe2)"
   ]
  },
  {
   "cell_type": "code",
   "execution_count": 9,
   "metadata": {},
   "outputs": [],
   "source": [
    "#5 Desconectad la conexión con el servidor."
   ]
  },
  {
   "cell_type": "code",
   "execution_count": null,
   "metadata": {},
   "outputs": [],
   "source": [
    "mycursor.close()\n",
    "mydb.close()"
   ]
  }
 ],
 "metadata": {
  "kernelspec": {
   "display_name": "Python 3.9.7 ('base')",
   "language": "python",
   "name": "python3"
  },
  "language_info": {
   "codemirror_mode": {
    "name": "ipython",
    "version": 3
   },
   "file_extension": ".py",
   "mimetype": "text/x-python",
   "name": "python",
   "nbconvert_exporter": "python",
   "pygments_lexer": "ipython3",
   "version": "3.9.7"
  },
  "orig_nbformat": 4,
  "vscode": {
   "interpreter": {
    "hash": "0620710c65b0f5ccc651a2aa8870ae0eb4c70492424a8d7866846658189426a3"
   }
  }
 },
 "nbformat": 4,
 "nbformat_minor": 2
}
