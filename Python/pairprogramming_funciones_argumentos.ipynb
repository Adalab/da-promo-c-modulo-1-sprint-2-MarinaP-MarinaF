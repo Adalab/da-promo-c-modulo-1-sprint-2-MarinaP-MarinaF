{
 "cells": [
  {
   "cell_type": "code",
   "execution_count": 19,
   "metadata": {},
   "outputs": [],
   "source": [
    "#1 Crear una calculadora de puntos. Escribir una calculadora que reciba cadenas de caracteres con entrada.\n",
    "# Los puntos representarán el número de la ecuación. Habrá puntos en un lado, un operador y puntos de nuevo\n",
    "# después del operador. LOs puntos y el operador estarán separados por un espacio.\n",
    "\n",
    "#Aquí os dejamos los operadores:\n",
    "    # suma, resta, multiplicación, división entera.\n",
    "\n",
    "# Vuestro trabajo es devolver un string que contenga puntos, tantos como devuelva la ecuación. Si el resultado\n",
    "# es 0, que devuelva la cadena vacía. Cuando se trate de una resta, el primer número siempre será mayor o\n",
    "# igual que el segundo.\n",
    "\n",
    "# Probad la función con los siguientes casos:\n",
    "\n",
    "# \"..... + ...............\" => \"....................\"\n",
    "# \"..... - ...\" => \"..\"\n",
    "# \"..... * ...\" => \"...............\"\n",
    "# \"..... // ..\" => \"..\"\n",
    "# \". // ..\" => \"\"\n",
    "# \".. - ..\" => \"\""
   ]
  },
  {
   "cell_type": "code",
   "execution_count": 29,
   "metadata": {},
   "outputs": [
    {
     "ename": "NameError",
     "evalue": "name 'a' is not defined",
     "output_type": "error",
     "traceback": [
      "\u001b[0;31m---------------------------------------------------------------------------\u001b[0m",
      "\u001b[0;31mNameError\u001b[0m                                 Traceback (most recent call last)",
      "\u001b[0;32m/tmp/ipykernel_6499/1349557878.py\u001b[0m in \u001b[0;36m<module>\u001b[0;34m\u001b[0m\n\u001b[1;32m      4\u001b[0m     \u001b[0ma\u001b[0m \u001b[0;34m=\u001b[0m \u001b[0minput\u001b[0m\u001b[0;34m(\u001b[0m\u001b[0;34m'Dime un número'\u001b[0m\u001b[0;34m)\u001b[0m\u001b[0;34m\u001b[0m\u001b[0;34m\u001b[0m\u001b[0m\n\u001b[1;32m      5\u001b[0m     \u001b[0mb\u001b[0m \u001b[0;34m=\u001b[0m \u001b[0minput\u001b[0m\u001b[0;34m(\u001b[0m\u001b[0;34m'Dime un número'\u001b[0m\u001b[0;34m)\u001b[0m\u001b[0;34m\u001b[0m\u001b[0;34m\u001b[0m\u001b[0m\n\u001b[0;32m----> 6\u001b[0;31m \u001b[0;32mif\u001b[0m \u001b[0ma\u001b[0m \u001b[0;34m==\u001b[0m \u001b[0;36m1\u001b[0m\u001b[0;34m:\u001b[0m\u001b[0;34m\u001b[0m\u001b[0;34m\u001b[0m\u001b[0m\n\u001b[0m\u001b[1;32m      7\u001b[0m     \u001b[0ma\u001b[0m \u001b[0;34m=\u001b[0m \u001b[0mstr\u001b[0m\u001b[0;34m(\u001b[0m\u001b[0;34m'.'\u001b[0m\u001b[0;34m)\u001b[0m\u001b[0;34m\u001b[0m\u001b[0;34m\u001b[0m\u001b[0m\n\u001b[1;32m      8\u001b[0m \u001b[0;32melif\u001b[0m \u001b[0ma\u001b[0m \u001b[0;34m==\u001b[0m \u001b[0;36m2\u001b[0m\u001b[0;34m:\u001b[0m\u001b[0;34m\u001b[0m\u001b[0;34m\u001b[0m\u001b[0m\n",
      "\u001b[0;31mNameError\u001b[0m: name 'a' is not defined"
     ]
    }
   ],
   "source": [
    "# Probamos a hacer una función que nos traduzca los int a strings de puntos.\n",
    "\n",
    "def valores(a, b):\n",
    "    a = input('Dime un número')\n",
    "    b = input('Dime un número')\n",
    "if a == 1:\n",
    "    a = str('.')\n",
    "elif a == 2:\n",
    "    a = str('..')\n",
    "elif a == 3:\n",
    "    a = str('...')\n",
    "\n",
    "num = input('Dime un número')\n"
   ]
  },
  {
   "cell_type": "code",
   "execution_count": 31,
   "metadata": {},
   "outputs": [],
   "source": [
    "# Creamos la función de la calculadora.\n",
    "\n",
    "def calculadora(a,b, operacion = \"suma\"):\n",
    "    if operacion == \"suma\":\n",
    "        return a + b\n",
    "    elif operacion == \"multiplicación\":\n",
    "        return a * b\n",
    "    elif operacion == \"resta\":\n",
    "        return a - b\n",
    "    elif operacion == \"division_entera\":\n",
    "        return a // b"
   ]
  },
  {
   "cell_type": "code",
   "execution_count": 13,
   "metadata": {},
   "outputs": [
    {
     "data": {
      "text/plain": [
       "10"
      ]
     },
     "execution_count": 13,
     "metadata": {},
     "output_type": "execute_result"
    }
   ],
   "source": [
    "calculadora(5, 2, operacion = \"multiplicación\")\n",
    "\n",
    "# No sabemos cómo hacer que en la calculadora se puedan introducir caracteres."
   ]
  },
  {
   "cell_type": "code",
   "execution_count": null,
   "metadata": {},
   "outputs": [],
   "source": [
    "#2 Dado un año, encuentra el próximo cumpleaños o el año más cercano en el que verás a tu mejor amigo.\n",
    "Condiciones:\n",
    "- año siempre positivo\n",
    "- el siguiente año que le felicites a tu amigo no puede tener ningún dígito repetido"
   ]
  },
  {
   "cell_type": "code",
   "execution_count": null,
   "metadata": {},
   "outputs": [],
   "source": [
    "Probad la función con los siguientes casos:\n",
    "\n",
    "7712 ==> El siguiente año que felicitarás a tu amigo será el 7801. \n",
    "Por que es el siguiente año en el que no hay ninguún dígito repetido. \n",
    "\n",
    "\n",
    "1001 => 1023 \n",
    "\n",
    "1123 => 1203\n",
    "\n",
    "2001 => 2013"
   ]
  },
  {
   "cell_type": "code",
   "execution_count": null,
   "metadata": {},
   "outputs": [],
   "source": [
    "#3 Crear una función que chequee la vida de un evaporador que contiene un gas. Conocemos el contenido del\n",
    "# evaporador, que está en mililitros, el porcentaje de gas que se pierde cada día y el umbral en porcentaje\n",
    "# a partir del cual el evaporador deja de ser útil. Todos los números serán estrictamente positivos."
   ]
  },
  {
   "cell_type": "code",
   "execution_count": null,
   "metadata": {},
   "outputs": [],
   "source": [
    "Probad con los siguientes casos: \n",
    "\n",
    "10, 10, 5 => 29\n",
    "\n",
    "10, 10, 10 = > 22"
   ]
  },
  {
   "cell_type": "code",
   "execution_count": null,
   "metadata": {},
   "outputs": [],
   "source": [
    "# Definir una función que tome como argumento un entero y devuelva TRue of False dependiendo de si el\n",
    "# número es primo o no. Un número primo es un número natural mayor que 1 que no tiene divisores positivos\n",
    "# más que 1 y él mismo.\n",
    "\n",
    "Probad la función con los siguientes números: \n",
    "\n",
    "0 => False\n",
    "2 => True\n",
    "73 => True\n",
    "-1 => False\n",
    "5099 => True"
   ]
  },
  {
   "cell_type": "code",
   "execution_count": null,
   "metadata": {},
   "outputs": [],
   "source": [
    "# Crear una función que tome una lista que contiene los nombres de las personas a las que les gusta un artículo.\n",
    "\n",
    "Probad los siguientes ejemplos: \n",
    "\n",
    "[]                              -->  \"A nadie le gusta esto\"\n",
    "[\"Paola\"]                       -->  \"A Peter le gusta esto\"\n",
    "[\"Jacoba\", \"Alex\"]               -->  \"A Jacob y Alex les gusta esto\"\n",
    "[\"Maria\", \"Juana\", \"Lola\"]         -->  \"A Max, John y Mark les gusta esto\"\n",
    "[\"Alex\", \"Jacoba\", \"Lola\", \"Carmen\"]-->  \"A Alex, Jacob y 2 más les gusta esto\"\n",
    "[\"Alex\", \"Jacoba\", \"Lola\", \"Carmen\", \"Mariana\"]-->  \"A Alex, Jacoba y 3 más les gusta esto\""
   ]
  }
 ],
 "metadata": {
  "kernelspec": {
   "display_name": "Python 3.9.7 ('base')",
   "language": "python",
   "name": "python3"
  },
  "language_info": {
   "codemirror_mode": {
    "name": "ipython",
    "version": 3
   },
   "file_extension": ".py",
   "mimetype": "text/x-python",
   "name": "python",
   "nbconvert_exporter": "python",
   "pygments_lexer": "ipython3",
   "version": "3.9.7"
  },
  "orig_nbformat": 4,
  "vscode": {
   "interpreter": {
    "hash": "0620710c65b0f5ccc651a2aa8870ae0eb4c70492424a8d7866846658189426a3"
   }
  }
 },
 "nbformat": 4,
 "nbformat_minor": 2
}
