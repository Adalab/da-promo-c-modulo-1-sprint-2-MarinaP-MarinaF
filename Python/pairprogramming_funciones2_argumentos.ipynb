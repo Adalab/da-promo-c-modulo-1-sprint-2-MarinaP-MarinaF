{
 "cells": [
  {
   "cell_type": "code",
   "execution_count": 19,
   "metadata": {},
   "outputs": [],
   "source": [
    "#1 Crear una calculadora de puntos. Escribir una calculadora que reciba cadenas de caracteres con entrada.\n",
    "# Los puntos representarán el número de la ecuación. Habrá puntos en un lado, un operador y puntos de nuevo\n",
    "# después del operador. LOs puntos y el operador estarán separados por un espacio.\n",
    "\n",
    "#Aquí os dejamos los operadores:\n",
    "    # suma, resta, multiplicación, división entera.\n",
    "\n",
    "# Vuestro trabajo es devolver un string que contenga puntos, tantos como devuelva la ecuación. Si el resultado\n",
    "# es 0, que devuelva la cadena vacía. Cuando se trate de una resta, el primer número siempre será mayor o\n",
    "# igual que el segundo.\n",
    "\n",
    "# Probad la función con los siguientes casos:\n",
    "\n",
    "# \"..... + ...............\" => \"....................\"\n",
    "# \"..... - ...\" => \"..\"\n",
    "# \"..... * ...\" => \"...............\"\n",
    "# \"..... // ..\" => \"..\"\n",
    "# \". // ..\" => \"\"\n",
    "# \".. - ..\" => \"\""
   ]
  },
  {
   "cell_type": "code",
   "execution_count": 71,
   "metadata": {},
   "outputs": [],
   "source": [
    "# Primero probamos a hacer una función que nos traduzca los int a strings de puntos.\n",
    "\n",
    "# def valores(a, b, operacion = \"suma\"):\n",
    "# \n",
    "#     if operacion == \"suma\":\n",
    "#         return a + b\n",
    "#     elif operacion == \"multiplicación\":\n",
    "#         return a * b\n",
    "#     elif operacion == \"resta\":\n",
    "#         return a - b\n",
    "#     elif operacion == \"division_entera\":\n",
    "#         return a // b\n"
   ]
  },
  {
   "cell_type": "code",
   "execution_count": 52,
   "metadata": {},
   "outputs": [],
   "source": [
    "# Creamos la función de la calculadora.\n",
    "\n",
    "def calculadora(a,b, operacion = \"suma\"):\n",
    "    if operacion == \"suma\":\n",
    "        return a + b\n",
    "    elif operacion == \"multiplicación\":\n",
    "        return a * b\n",
    "    elif operacion == \"resta\":\n",
    "        return a - b\n",
    "    elif operacion == \"division_entera\":\n",
    "        return a // b"
   ]
  },
  {
   "cell_type": "code",
   "execution_count": 53,
   "metadata": {},
   "outputs": [
    {
     "name": "stdout",
     "output_type": "stream",
     "text": [
      "Si insertamos los valores 5 y 2 con la función multiplicación, nos da como resutado 10\n"
     ]
    }
   ],
   "source": [
    "print('Si insertamos los valores 5 y 2 con la función multiplicación, nos da como resutado', calculadora(5, 2, operacion = \"multiplicación\"))\n",
    "\n",
    "# No sabemos cómo hacer que en la calculadora se puedan introducir caracteres."
   ]
  },
  {
   "cell_type": "code",
   "execution_count": 14,
   "metadata": {},
   "outputs": [
    {
     "name": "stdout",
     "output_type": "stream",
     "text": [
      "Nos vemos el próximo año 7713\n",
      "None\n",
      "Nos vemos el próximo año 1002\n",
      "None\n",
      "Nos vemos el próximo año 1124\n",
      "None\n",
      "Nos vemos el próximo año 2002\n",
      "None\n"
     ]
    }
   ],
   "source": [
    "#2 Dado un año, encuentra el próximo cumpleaños o el año más cercano en el que verás a tu mejor amigo.\n",
    "# Condiciones:\n",
    "# - año siempre positivo\n",
    "# - el siguiente año que le felicites a tu amigo no puede tener ningún dígito repetido\n",
    "\n",
    "\n",
    "def año(primeraño):\n",
    "\n",
    "    añoresultado = primeraño + 1\n",
    "    \n",
    "    while len(str(añoresultado)) != 4:\n",
    "        añoresultado += 1\n",
    "    \n",
    "    return print(\"Nos vemos el próximo año\", añoresultado)\n",
    "\n",
    "print(año(7712))\n",
    "print(año(1001))\n",
    "print(año(1123))\n",
    "print(año(2001))\n",
    "\n",
    "# No sé cómo quitar el None."
   ]
  },
  {
   "cell_type": "code",
   "execution_count": 15,
   "metadata": {},
   "outputs": [
    {
     "name": "stdout",
     "output_type": "stream",
     "text": [
      "En el caso de que los valores sean 10, 10 y 5, el resultado es que 29\n",
      "Y en el caso de que los valores sean 10, 10 y 10, el resultado es que 22\n"
     ]
    }
   ],
   "source": [
    "#3 Crear una función que chequee la vida de un evaporador que contiene un gas. Conocemos el contenido del\n",
    "# evaporador, que está en mililitros, el porcentaje de gas que se pierde cada día y el umbral en porcentaje\n",
    "# a partir del cual el evaporador deja de ser útil. Todos los números serán estrictamente positivos.\n",
    "\n",
    "def evaporador(inicio, perdido, umbral):\n",
    "\n",
    "    umbral = inicio * umbral / 100\n",
    "    dias = 0\n",
    "    \n",
    "    while inicio >= umbral:\n",
    "        inicio -= inicio * perdido / 100\n",
    "        dias += 1\n",
    "        \n",
    "    return dias\n",
    "\n",
    "print('En el caso de que los valores sean 10, 10 y 5, el resultado es que', evaporador(10, 10, 5))\n",
    "print('Y en el caso de que los valores sean 10, 10 y 10, el resultado es que', evaporador(10, 10, 10))\n"
   ]
  },
  {
   "cell_type": "code",
   "execution_count": 1,
   "metadata": {},
   "outputs": [
    {
     "name": "stdout",
     "output_type": "stream",
     "text": [
      "Que 0 sea primo es False\n",
      "Que 2 sea primo es True\n",
      "Que 73 sea primo es True\n",
      "Que -1 sea primo es False\n",
      "Que 5099 sea primo es True\n"
     ]
    }
   ],
   "source": [
    "#4 Definir una función que tome como argumento un entero y devuelva TRue of False dependiendo de si el\n",
    "# número es primo o no. Un número primo es un número natural mayor que 1 que no tiene divisores positivos\n",
    "# más que 1 y él mismo.\n",
    "\n",
    "def primo(num):\n",
    "    if num > 0:\n",
    "        if num % num == 0 and num % 1 == 0:\n",
    "            return True\n",
    "    else:\n",
    "        return False\n",
    "\n",
    "# Probamos la función:\n",
    "\n",
    "print('Que 0 sea primo es', primo(0))\n",
    "print('Que 2 sea primo es', primo(2))\n",
    "print('Que 73 sea primo es', primo(73))\n",
    "print('Que -1 sea primo es', primo(-1))\n",
    "print('Que 5099 sea primo es', primo(5099))\n"
   ]
  },
  {
   "cell_type": "code",
   "execution_count": 17,
   "metadata": {},
   "outputs": [
    {
     "name": "stdout",
     "output_type": "stream",
     "text": [
      "A Paola le gusta esto\n",
      "A Jacoba y Alex les gusta esto\n",
      "A Maria, Juana y Lola les gusta esto\n",
      "A Alex, Jacoba y a 2 más les gusta esto\n",
      "A Alex, Jacoba y a 3 más les gusta esto\n"
     ]
    }
   ],
   "source": [
    "#5 Crear una función que tome una lista que contiene los nombres de las personas a las que les gusta un artículo.\n",
    "\n",
    "def le_gusta(nombre):\n",
    "\n",
    "    resto = len(nombre) - 2\n",
    "\n",
    "    if len(nombre) == 0:\n",
    "            return f'A nadie le gusta esto'\n",
    "    elif len(nombre) == 1:\n",
    "            return f'A {nombre[0]} le gusta esto'\n",
    "    elif len(nombre) == 2:\n",
    "            return f'A {nombre[0]} y {nombre[1]} les gusta esto'\n",
    "    elif len(nombre) == 3:\n",
    "            return f'A {nombre[0]}, {nombre[1]} y {nombre[2]} les gusta esto'\n",
    "    elif len(nombre) > 3:\n",
    "            return f'A {nombre[0]}, {nombre[1]} y a {resto} más les gusta esto'\n",
    "\n",
    "print(le_gusta([\"Paola\"]))\n",
    "print(le_gusta([\"Jacoba\", \"Alex\"]))\n",
    "print(le_gusta([\"Maria\", \"Juana\", \"Lola\"]))\n",
    "print(le_gusta([\"Alex\", \"Jacoba\", \"Lola\", \"Carmen\"]))\n",
    "print(le_gusta([\"Alex\", \"Jacoba\", \"Lola\", \"Carmen\", \"Mariana\"]))"
   ]
  }
 ],
 "metadata": {
  "kernelspec": {
   "display_name": "Python 3.9.7 ('base')",
   "language": "python",
   "name": "python3"
  },
  "language_info": {
   "codemirror_mode": {
    "name": "ipython",
    "version": 3
   },
   "file_extension": ".py",
   "mimetype": "text/x-python",
   "name": "python",
   "nbconvert_exporter": "python",
   "pygments_lexer": "ipython3",
   "version": "3.9.7"
  },
  "orig_nbformat": 4,
  "vscode": {
   "interpreter": {
    "hash": "0620710c65b0f5ccc651a2aa8870ae0eb4c70492424a8d7866846658189426a3"
   }
  }
 },
 "nbformat": 4,
 "nbformat_minor": 2
}
