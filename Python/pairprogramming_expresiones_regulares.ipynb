{
 "cells": [
  {
   "cell_type": "code",
   "execution_count": 13,
   "metadata": {},
   "outputs": [],
   "source": [
    "# Importamos la librería y cargamos el archivo \"email.txt\" que necesitaremos para los ejercicios.\n",
    "\n",
    "import os\n",
    "\n",
    "with open(\"email.txt\", \"r\") as f:\n",
    "    texto_email = f.read()\n",
    "    f.close()"
   ]
  },
  {
   "cell_type": "code",
   "execution_count": 14,
   "metadata": {},
   "outputs": [
    {
     "name": "stdout",
     "output_type": "stream",
     "text": [
      "['From: \"Mr. Ben Suleman\" <bensul2004nng@spinfinder.com>', 'From: \"MR. JAMES NGOLA.\" <james_ngola2002@maktoob.com>']\n",
      "['bensul2004nng@spinfinder.com', 'james_ngola2002@maktoob.com']\n"
     ]
    }
   ],
   "source": [
    "# Extraer el email de las personas que enviaron el email.\n",
    "\n",
    "import re\n",
    "\n",
    "info_remitente = re.findall(\"From:.*\", texto_email)\n",
    "print(info_remitente)\n",
    "\n",
    "info_email = re.findall(\"\\w+@\\w+\\.\\w+\", str(info_remitente))\n",
    "print(info_email)"
   ]
  },
  {
   "cell_type": "code",
   "execution_count": 15,
   "metadata": {},
   "outputs": [
    {
     "name": "stdout",
     "output_type": "stream",
     "text": [
      "['Mr. Ben Suleman', 'MR. JAMES NGOLA']\n"
     ]
    }
   ],
   "source": [
    "#Extraer el nombre de las personas que enviaron el email.\n",
    "\n",
    "info_nombre = re.findall(\"M[rR]\\.\\s\\w+\\s\\w+\", str(info_remitente))\n",
    "print(info_nombre)"
   ]
  },
  {
   "cell_type": "code",
   "execution_count": 16,
   "metadata": {},
   "outputs": [
    {
     "name": "stdout",
     "output_type": "stream",
     "text": [
      "['Date: Thu, 31 Oct 2002 05:10:00', 'Date: Thu, 31 Oct 2002 02:38:20 +0000']\n",
      "['31 Oct 2002', '31 Oct 2002']\n"
     ]
    }
   ],
   "source": [
    "#El día en que se mandaron los emails.\n",
    "\n",
    "info_fecha = re.findall(\"Date:.*\", texto_email)\n",
    "print(info_fecha)\n",
    "\n",
    "info_dia = re.findall(\"\\d+\\s\\w+\\s\\d+\", str(info_fecha))\n",
    "print(info_dia)"
   ]
  },
  {
   "cell_type": "code",
   "execution_count": 17,
   "metadata": {},
   "outputs": [
    {
     "name": "stdout",
     "output_type": "stream",
     "text": [
      "['Subject: URGENT ASSISTANCE /RELATIONSHIP (P)', 'Subject: URGENT BUSINESS ASSISTANCE AND PARTNERSHIP']\n"
     ]
    }
   ],
   "source": [
    "#El asunto de los emails:\n",
    "\n",
    "info_asunto = re.findall(\"Subject:.*\", texto_email)\n",
    "print(info_asunto)\n",
    "\n"
   ]
  },
  {
   "cell_type": "code",
   "execution_count": 18,
   "metadata": {},
   "outputs": [
    {
     "name": "stdout",
     "output_type": "stream",
     "text": [
      "{'email': ['bensul2004nng@spinfinder.com', 'james_ngola2002@maktoob.com'], 'remitente': ['Mr. Ben Suleman', 'MR. JAMES NGOLA'], 'fecha': ['31 Oct 2002', '31 Oct 2002'], 'asunto': ['Subject: URGENT ASSISTANCE /RELATIONSHIP (P)', 'Subject: URGENT BUSINESS ASSISTANCE AND PARTNERSHIP']}\n"
     ]
    }
   ],
   "source": [
    "# Guardar todos los resultados en un diccionario:\n",
    "\n",
    "dicc_email = {\"email\": info_email, \"remitente\": info_nombre, \"fecha\": info_dia, \"asunto\": info_asunto}\n",
    "print(dicc_email)"
   ]
  },
  {
   "cell_type": "code",
   "execution_count": 19,
   "metadata": {},
   "outputs": [],
   "source": [
    "# Definimos la función para obtener los nombres de los emails\n",
    "def info_email(texto):\n",
    "\n",
    "    info_remitente = re.findall()\n",
    "\n"
   ]
  },
  {
   "cell_type": "code",
   "execution_count": null,
   "metadata": {},
   "outputs": [],
   "source": [
    "### TERMINAR"
   ]
  }
 ],
 "metadata": {
  "kernelspec": {
   "display_name": "Python 3.9.7 ('base')",
   "language": "python",
   "name": "python3"
  },
  "language_info": {
   "codemirror_mode": {
    "name": "ipython",
    "version": 3
   },
   "file_extension": ".py",
   "mimetype": "text/x-python",
   "name": "python",
   "nbconvert_exporter": "python",
   "pygments_lexer": "ipython3",
   "version": "3.9.7"
  },
  "orig_nbformat": 4,
  "vscode": {
   "interpreter": {
    "hash": "0620710c65b0f5ccc651a2aa8870ae0eb4c70492424a8d7866846658189426a3"
   }
  }
 },
 "nbformat": 4,
 "nbformat_minor": 2
}
